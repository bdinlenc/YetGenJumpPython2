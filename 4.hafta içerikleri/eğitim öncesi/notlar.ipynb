{
 "cells": [
  {
   "cell_type": "code",
   "execution_count": null,
   "metadata": {},
   "outputs": [],
   "source": []
  },
  {
   "attachments": {},
   "cell_type": "markdown",
   "metadata": {},
   "source": [
    "Listeler\n",
    "[] içerisinde tutulurlar\n",
    "Indexleme, veri güncelleme, silme, veri ekleme gibi işlemler yapılabilir\n",
    "İç içe listeleme işlemi yapılabilir"
   ]
  },
  {
   "cell_type": "code",
   "execution_count": 3,
   "metadata": {},
   "outputs": [
    {
     "name": "stdout",
     "output_type": "stream",
     "text": [
      "['Ahmet', 'Eslem', 'Berkcan', 'Çağla']\n"
     ]
    }
   ],
   "source": [
    "liderler = [\"Ahmet\", \"Eslem\", \"Berkcan\", \"Çağla\"]\n",
    "print(liderler)"
   ]
  },
  {
   "cell_type": "code",
   "execution_count": 4,
   "metadata": {},
   "outputs": [
    {
     "name": "stdout",
     "output_type": "stream",
     "text": [
      "Ahmet\n",
      "Çağla\n"
     ]
    }
   ],
   "source": [
    "print(liderler[0])\n",
    "print(liderler[-1])"
   ]
  },
  {
   "attachments": {},
   "cell_type": "markdown",
   "metadata": {},
   "source": [
    "append(): Listenin sonuna eleman ekler\n",
    "remove(): Listenin içerisindeki elemanı siler\n",
    "len(): Listenin uzunluğunu verir\n",
    "clear(): Listenin içerisindeki elemanları siler"
   ]
  },
  {
   "cell_type": "code",
   "execution_count": null,
   "metadata": {},
   "outputs": [],
   "source": [
    "liderler.append(\"Emirhan\")\n",
    "print(liderler)"
   ]
  },
  {
   "cell_type": "code",
   "execution_count": null,
   "metadata": {},
   "outputs": [],
   "source": [
    "liderler.remove(\"Berkcan\")\n",
    "print(liderler)"
   ]
  },
  {
   "cell_type": "code",
   "execution_count": null,
   "metadata": {},
   "outputs": [],
   "source": [
    "liderler[2] = \"Berkcan\"\n",
    "print(liderler)"
   ]
  },
  {
   "cell_type": "code",
   "execution_count": null,
   "metadata": {},
   "outputs": [],
   "source": [
    "print(len(liderler))"
   ]
  },
  {
   "cell_type": "code",
   "execution_count": null,
   "metadata": {},
   "outputs": [],
   "source": [
    "liderler.clear()\n",
    "print(liderler)"
   ]
  },
  {
   "attachments": {},
   "cell_type": "markdown",
   "metadata": {},
   "source": [
    "index():\n",
    "Listedeki elemanın indexini verir\n",
    "Aranan veriyi ilk bulduğunda durur. Diğer verilerde aynı veri varsa getirmez.\n",
    "Eğer veri bulunmazsa ValueError hatası verir."
   ]
  },
  {
   "cell_type": "code",
   "execution_count": null,
   "metadata": {},
   "outputs": [],
   "source": [
    "sehirler = list((\"Ankara\", \"İstanbul\", \"İzmir\"))\n",
    "print(sehirler)"
   ]
  },
  {
   "cell_type": "code",
   "execution_count": null,
   "metadata": {},
   "outputs": [],
   "source": [
    "print(\"Ankara'nın indexi: \", sehirler. index(\"Ankara\"))"
   ]
  },
  {
   "attachments": {},
   "cell_type": "markdown",
   "metadata": {},
   "source": [
    "pop(): Listedeki elemanı siler\n",
    "İndex verilmezse son elemanı siler.\n",
    "İndex verilirse verilen indexdeki elemanı siler."
   ]
  },
  {
   "cell_type": "code",
   "execution_count": null,
   "metadata": {},
   "outputs": [],
   "source": [
    "sehirler.pop()"
   ]
  },
  {
   "cell_type": "code",
   "execution_count": null,
   "metadata": {},
   "outputs": [],
   "source": [
    "sehirler.insert(0,\"Adana\")\n",
    "sehirler.insert(1,\"Manisa\")\n",
    "sehirler.insert(0,\"Denizli\")\n",
    "print(sehirler)"
   ]
  },
  {
   "attachments": {},
   "cell_type": "markdown",
   "metadata": {},
   "source": [
    "reverse(): Listeyi ters çevirir"
   ]
  },
  {
   "cell_type": "code",
   "execution_count": null,
   "metadata": {},
   "outputs": [],
   "source": [
    "sehirler.reverse()\n",
    "print(sehirler)"
   ]
  },
  {
   "attachments": {},
   "cell_type": "markdown",
   "metadata": {},
   "source": [
    "sort(): Listeyi küçükten büyüğe sıralar"
   ]
  },
  {
   "cell_type": "code",
   "execution_count": null,
   "metadata": {},
   "outputs": [],
   "source": [
    "sehirler.sort()\n",
    "print(sehirler)"
   ]
  },
  {
   "attachments": {},
   "cell_type": "markdown",
   "metadata": {},
   "source": [
    "Liste Toplama\n",
    "İki listeyi birleştirir"
   ]
  },
  {
   "cell_type": "code",
   "execution_count": null,
   "metadata": {},
   "outputs": [],
   "source": [
    "liste1 = [\"mavi\", \"sarı\"]\n",
    "liste2 = [\"deniz\", \"kum\"]\n",
    "print(liste1 + liste2)"
   ]
  },
  {
   "cell_type": "code",
   "execution_count": null,
   "metadata": {},
   "outputs": [],
   "source": []
  },
  {
   "attachments": {},
   "cell_type": "markdown",
   "metadata": {},
   "source": [
    "Tuple listelere benzerdir.\n",
    "Tuple ile liste arasındaki en önemli fark tuple elemanlarının değiştirilemez, liste elemanlarının değiştirilebilir olmasıdır.\n",
    "Performanslı bir data sağlar.\n",
    "() içerisinde tanımlanabilir\n",
    "İç içe tuple oluşturulabilir.\n",
    "Liste içerisinde tuple, tuple içerisinde liste tanımlamak mümkündür.\n",
    "Bir kere tanımladıktan sonra değiştirilemezler yalnızca okunurlar.\n",
    "Tek elemansa tuple olduğunu belirtmek için virgül koyulmalıdır."
   ]
  },
  {
   "cell_type": "code",
   "execution_count": null,
   "metadata": {},
   "outputs": [],
   "source": [
    "tupleList = (2, 4, 6, \"Ankara\", [2, 4, 6])\n",
    "print(type(tupleList))"
   ]
  },
  {
   "cell_type": "code",
   "execution_count": null,
   "metadata": {},
   "outputs": [],
   "source": [
    "print(tupleList)"
   ]
  },
  {
   "cell_type": "code",
   "execution_count": null,
   "metadata": {},
   "outputs": [],
   "source": [
    "print(len(tupleList))"
   ]
  },
  {
   "cell_type": "code",
   "execution_count": null,
   "metadata": {},
   "outputs": [],
   "source": [
    "print(tupleList[-2])"
   ]
  },
  {
   "attachments": {},
   "cell_type": "markdown",
   "metadata": {},
   "source": [
    "SET\n",
    "Listelere benzer.\n",
    "En önemli özelliği indexsiz ve sırasız elemanlardan oluşmasıdır.\n",
    "Veri tekrarı söz konusu değildir. Tüm elemanlar eşsizdir.\n",
    "{} içerisinde tanımlanır.\n",
    "Çok hızlı bir veri tipidir."
   ]
  },
  {
   "cell_type": "code",
   "execution_count": null,
   "metadata": {},
   "outputs": [],
   "source": [
    "liderler = {\"Berkcan\", \"Ahmet\", \"Ahmet\"}\n",
    "print(liderler)\n",
    "print(type(liderler))"
   ]
  },
  {
   "cell_type": "code",
   "execution_count": null,
   "metadata": {},
   "outputs": [],
   "source": [
    "print(\"Berkcan\" in liderler)"
   ]
  },
  {
   "attachments": {},
   "cell_type": "markdown",
   "metadata": {},
   "source": [
    "add(): Sete eleman ekler\n",
    "remove(): Setten eleman siler\n",
    "clear(): Setin içerisindeki elemanları siler\n",
    "pop(): Setin son elemanını siler\n",
    "update(): Sete eleman ekler\n",
    "union(): İki seti birleştirir\n",
    "intersection(): İki setin kesişimini alır\n",
    "difference(): İki setin farkını alır"
   ]
  },
  {
   "cell_type": "code",
   "execution_count": null,
   "metadata": {},
   "outputs": [],
   "source": [
    "liderler.add(\"Enes\")\n",
    "print(liderler)"
   ]
  },
  {
   "cell_type": "code",
   "execution_count": null,
   "metadata": {},
   "outputs": [],
   "source": [
    "liderler.remove(\"Berkcan\")\n",
    "print(liderler)"
   ]
  },
  {
   "cell_type": "code",
   "execution_count": null,
   "metadata": {},
   "outputs": [],
   "source": [
    "liderler.pop()\n",
    "print(liderler)"
   ]
  },
  {
   "cell_type": "code",
   "execution_count": null,
   "metadata": {},
   "outputs": [],
   "source": [
    "set1 = {1, 2, 3}\n",
    "set2 = {2, 3, 4}\n",
    "set1.union(set2)"
   ]
  },
  {
   "cell_type": "code",
   "execution_count": null,
   "metadata": {},
   "outputs": [],
   "source": [
    "set1.intersection(set2)"
   ]
  },
  {
   "cell_type": "code",
   "execution_count": null,
   "metadata": {},
   "outputs": [],
   "source": [
    "set1.difference(set2)"
   ]
  },
  {
   "attachments": {},
   "cell_type": "markdown",
   "metadata": {},
   "source": [
    "Dictionary (Sözlük)\n",
    "Sırasız veri tutar.\n",
    "Günlük hayatta olan sözlükler gibi düşünebiliriz.\n",
    "{} arasında tanımlanır.\n",
    "key: anahtar - bir bilgiye ulaşmak için kullanılır\n",
    "value: değer\n",
    "key-value için örnek verecek olursak {06 : \"Ankara\"} 06 key, Ankara value\n",
    "dict(\"\") şeklinde de sözlük tanımlayabiliriz"
   ]
  },
  {
   "cell_type": "code",
   "execution_count": null,
   "metadata": {},
   "outputs": [],
   "source": [
    "sozluk = {\"book\": \"kitap\", \"table\": \"masa\"}\n",
    "print(sozluk)\n",
    "print(type(sozluk))"
   ]
  },
  {
   "cell_type": "code",
   "execution_count": null,
   "metadata": {},
   "outputs": [],
   "source": [
    "print(sozluk[\"table\"])"
   ]
  },
  {
   "attachments": {},
   "cell_type": "markdown",
   "metadata": {},
   "source": [
    "Veri Ekleme\n",
    "\n"
   ]
  },
  {
   "cell_type": "code",
   "execution_count": null,
   "metadata": {},
   "outputs": [],
   "source": [
    "sozluk[\"pencil\"]= \"kalem\"\n",
    "print(sozluk)"
   ]
  },
  {
   "cell_type": "code",
   "execution_count": null,
   "metadata": {},
   "outputs": [],
   "source": [
    "sozluk[\"book\"] = \"kitaplar\"\n",
    "print(sozluk)"
   ]
  },
  {
   "cell_type": "code",
   "execution_count": null,
   "metadata": {},
   "outputs": [],
   "source": [
    "del(sozluk[\"book\"])\n",
    "print(sozluk)"
   ]
  },
  {
   "attachments": {},
   "cell_type": "markdown",
   "metadata": {},
   "source": [
    "Value'nun Sözlük Olması"
   ]
  },
  {
   "cell_type": "code",
   "execution_count": null,
   "metadata": {},
   "outputs": [],
   "source": [
    "sozlukValue = {1: {\"TL\": \"Türkiye\"}}\n",
    "print(sozlukValue)"
   ]
  },
  {
   "attachments": {},
   "cell_type": "markdown",
   "metadata": {},
   "source": [
    "Sözlük Metodları\n",
    "keys(): Sözlükteki keyleri verir\n",
    "values(): Sözlükteki valueları verir\n",
    "items(): Sözlükteki key ve value çiftlerini verir"
   ]
  },
  {
   "cell_type": "code",
   "execution_count": null,
   "metadata": {},
   "outputs": [],
   "source": [
    "sozluk.keys()"
   ]
  },
  {
   "cell_type": "code",
   "execution_count": null,
   "metadata": {},
   "outputs": [],
   "source": [
    "sozluk.values()"
   ]
  },
  {
   "cell_type": "code",
   "execution_count": null,
   "metadata": {},
   "outputs": [],
   "source": [
    "sozluk.items()"
   ]
  },
  {
   "attachments": {},
   "cell_type": "markdown",
   "metadata": {},
   "source": [
    "String Parçalama"
   ]
  },
  {
   "cell_type": "code",
   "execution_count": null,
   "metadata": {},
   "outputs": [],
   "source": [
    "x = \"YetGen\"\n",
    "print(x[2: 5])"
   ]
  },
  {
   "cell_type": "code",
   "execution_count": null,
   "metadata": {},
   "outputs": [],
   "source": [
    "print(x[2:])"
   ]
  },
  {
   "cell_type": "code",
   "execution_count": null,
   "metadata": {},
   "outputs": [],
   "source": [
    "print(x[:2])"
   ]
  },
  {
   "cell_type": "code",
   "execution_count": null,
   "metadata": {},
   "outputs": [],
   "source": [
    "print(x[::-1])"
   ]
  },
  {
   "attachments": {},
   "cell_type": "markdown",
   "metadata": {},
   "source": [
    "String Metodları\n",
    "len(): Stringin uzunluğunu verir\n",
    "upper(): Stringin tüm harflerini büyük harfe çevirir\n",
    "lower(): Stringin tüm harflerini küçük harfe çevirir\n",
    "capitalize(): Stringin ilk harfini büyük harfe çevirir\n",
    "swapcase(): Stringin tüm büyük harflerini küçük harfe,küçük harflerini büyük harfe çevirir\n",
    "replace(): Stringin içerisindeki veriyi çeviri\n",
    "split(): Stringi parçalar\n",
    "strip(): Stringin başındaki ve sonundaki boşlukları siler\n",
    "startswith(): Stringin belirtilen karakterle başlayıp başlamadığını kontrol eder\n",
    "endswith(): Stringin belirtilen karakterle bitip bitmediğini kontrol eder\n",
    "find(): Stringin içerisindeki verinin indexini verir. Eğer veri yoksa -1 döndürür.\n",
    "index(): Stringin içerisindeki verinin indexini verir. Eğer veri yoksa ValueError hatası verir.\n",
    "isalpha(): Stringin tüm karakterlerinin alfabetik olup olmadığını kontrol eder.\n",
    "isdigit(): Stringin tüm karakterlerinin rakam olup olmadığını kontrol eder."
   ]
  },
  {
   "cell_type": "code",
   "execution_count": null,
   "metadata": {},
   "outputs": [],
   "source": [
    "print(len(x))"
   ]
  },
  {
   "cell_type": "code",
   "execution_count": null,
   "metadata": {},
   "outputs": [],
   "source": [
    "x.upper()"
   ]
  },
  {
   "cell_type": "code",
   "execution_count": null,
   "metadata": {},
   "outputs": [],
   "source": [
    "x.lower()"
   ]
  },
  {
   "cell_type": "code",
   "execution_count": null,
   "metadata": {},
   "outputs": [],
   "source": [
    "x.capitalize()"
   ]
  },
  {
   "cell_type": "code",
   "execution_count": null,
   "metadata": {},
   "outputs": [],
   "source": [
    "x.swapcase()"
   ]
  },
  {
   "cell_type": "code",
   "execution_count": null,
   "metadata": {},
   "outputs": [],
   "source": [
    "x.replace(\"e\", \"a\")"
   ]
  },
  {
   "cell_type": "code",
   "execution_count": 1,
   "metadata": {},
   "outputs": [
    {
     "name": "stdout",
     "output_type": "stream",
     "text": [
      "['Berna', 'Dinlenc', '34', 'Eczacı']\n"
     ]
    }
   ],
   "source": [
    "bilgi = \"Berna Dinlenc 34 Eczacı\"\n",
    "print(bilgi.split(\" \"))"
   ]
  },
  {
   "cell_type": "code",
   "execution_count": 2,
   "metadata": {},
   "outputs": [
    {
     "name": "stdout",
     "output_type": "stream",
     "text": [
      "['Berna', ' Dinlwenc', ' 23', ' Eczacı']\n"
     ]
    }
   ],
   "source": [
    "bilgi2 = \"Berna; Dinlwenc; 23; Eczacı\"\n",
    "print(bilgi2.split(\";\"))"
   ]
  },
  {
   "cell_type": "code",
   "execution_count": null,
   "metadata": {},
   "outputs": [],
   "source": [
    "bosluk = \"     YetGen     \"\n",
    "print(bosluk.strip())"
   ]
  },
  {
   "cell_type": "code",
   "execution_count": null,
   "metadata": {},
   "outputs": [],
   "source": [
    "yetgen = \"YetGen\"\n",
    "print(yetgen.startswith(\"y\"))"
   ]
  },
  {
   "cell_type": "code",
   "execution_count": null,
   "metadata": {},
   "outputs": [],
   "source": [
    "print(yetgen.endswith(\"en\"))"
   ]
  },
  {
   "cell_type": "code",
   "execution_count": null,
   "metadata": {},
   "outputs": [],
   "source": [
    "print(yetgen.find(\"en\"))"
   ]
  },
  {
   "cell_type": "code",
   "execution_count": null,
   "metadata": {},
   "outputs": [],
   "source": [
    "print(yetgen.find(\"m\"))"
   ]
  },
  {
   "cell_type": "code",
   "execution_count": null,
   "metadata": {},
   "outputs": [],
   "source": [
    "print(yetgen.index(\"en\"))"
   ]
  },
  {
   "cell_type": "code",
   "execution_count": null,
   "metadata": {},
   "outputs": [],
   "source": [
    "print(\"abc\".isalpha())"
   ]
  },
  {
   "cell_type": "code",
   "execution_count": null,
   "metadata": {},
   "outputs": [],
   "source": [
    "print(\"123\".isdigit())"
   ]
  }
 ],
 "metadata": {
  "kernelspec": {
   "display_name": "Python 3",
   "language": "python",
   "name": "python3"
  },
  "language_info": {
   "codemirror_mode": {
    "name": "ipython",
    "version": 3
   },
   "file_extension": ".py",
   "mimetype": "text/x-python",
   "name": "python",
   "nbconvert_exporter": "python",
   "pygments_lexer": "ipython3",
   "version": "3.11.1"
  },
  "orig_nbformat": 4
 },
 "nbformat": 4,
 "nbformat_minor": 2
}
