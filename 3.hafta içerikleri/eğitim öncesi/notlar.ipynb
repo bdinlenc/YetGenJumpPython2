{
 "cells": [
  {
   "cell_type": "code",
   "execution_count": null,
   "metadata": {},
   "outputs": [],
   "source": [
    "Karşılaştırma Operatörleri\n",
    "= atama operatörüdür. Mesela x=5 derse x değerini 5'e atamış oluruz.\n",
    "== iki değerin birbirine eşit olup olmadığını kontrol eder. Eşitse True eşit değilse False değerini döndürür.\n",
    "!= eşit değil mi? Cevap eşit değilse True, eşitse False değerini döndürür.\n",
    "\">\" büyüktür\n",
    "\"<\" küçüktür\n",
    "\">=\" büyük eşittir\n",
    "\"<=\" küçük eşittir"
   ]
  },
  {
   "cell_type": "code",
   "execution_count": 2,
   "metadata": {},
   "outputs": [],
   "source": [
    "a, b, c, d = 5, 5, 10, 4"
   ]
  },
  {
   "cell_type": "code",
   "execution_count": 1,
   "metadata": {},
   "outputs": [
    {
     "ename": "NameError",
     "evalue": "name 'a' is not defined",
     "output_type": "error",
     "traceback": [
      "\u001b[1;31m---------------------------------------------------------------------------\u001b[0m",
      "\u001b[1;31mNameError\u001b[0m                                 Traceback (most recent call last)",
      "Cell \u001b[1;32mIn[1], line 1\u001b[0m\n\u001b[1;32m----> 1\u001b[0m \u001b[39mprint\u001b[39m(a\u001b[39m==\u001b[39mb)\n\u001b[0;32m      2\u001b[0m \u001b[39mprint\u001b[39m(a\u001b[39m==\u001b[39mc)\n",
      "\u001b[1;31mNameError\u001b[0m: name 'a' is not defined"
     ]
    }
   ],
   "source": [
    "print(a==b)\n",
    "\n",
    "print(a==c)"
   ]
  },
  {
   "cell_type": "code",
   "execution_count": 4,
   "metadata": {},
   "outputs": [
    {
     "name": "stdout",
     "output_type": "stream",
     "text": [
      "False\n"
     ]
    }
   ],
   "source": [
    "username = \"admin\"\n",
    "password = \"12345\" \n",
    "print(username == \"berna\")"
   ]
  },
  {
   "cell_type": "code",
   "execution_count": 5,
   "metadata": {},
   "outputs": [
    {
     "name": "stdout",
     "output_type": "stream",
     "text": [
      "False\n"
     ]
    }
   ],
   "source": [
    "print(a != b)\n"
   ]
  },
  {
   "cell_type": "code",
   "execution_count": 6,
   "metadata": {},
   "outputs": [
    {
     "name": "stdout",
     "output_type": "stream",
     "text": [
      "True\n"
     ]
    }
   ],
   "source": [
    "print(a != c)"
   ]
  },
  {
   "cell_type": "code",
   "execution_count": 7,
   "metadata": {},
   "outputs": [
    {
     "name": "stdout",
     "output_type": "stream",
     "text": [
      "False\n"
     ]
    }
   ],
   "source": [
    "print(a > b)\n"
   ]
  },
  {
   "cell_type": "code",
   "execution_count": 8,
   "metadata": {},
   "outputs": [
    {
     "name": "stdout",
     "output_type": "stream",
     "text": [
      "False\n"
     ]
    }
   ],
   "source": [
    "print(a < b)"
   ]
  },
  {
   "cell_type": "code",
   "execution_count": 9,
   "metadata": {},
   "outputs": [
    {
     "name": "stdout",
     "output_type": "stream",
     "text": [
      "True\n"
     ]
    }
   ],
   "source": [
    "print(a >= b)"
   ]
  },
  {
   "attachments": {},
   "cell_type": "markdown",
   "metadata": {},
   "source": [
    "And Operatörü\n",
    "\n",
    "Her iki durum da eğer doğruysa True değerini döndürür. Diğer durumlarda hep False değerini döndürür."
   ]
  },
  {
   "cell_type": "code",
   "execution_count": 10,
   "metadata": {},
   "outputs": [
    {
     "name": "stdout",
     "output_type": "stream",
     "text": [
      "False\n"
     ]
    }
   ],
   "source": [
    "x = int(input(\"Bir sayı giriniz:\"))\n",
    "print( x > 5 and x < 100 )"
   ]
  },
  {
   "cell_type": "code",
   "execution_count": 14,
   "metadata": {},
   "outputs": [
    {
     "name": "stdout",
     "output_type": "stream",
     "text": [
      "False\n"
     ]
    }
   ],
   "source": [
    "hak=5\n",
    "devamMı=True\n",
    " \n",
    "print(hak > 5  and devamMı ==True)"
   ]
  },
  {
   "attachments": {},
   "cell_type": "markdown",
   "metadata": {},
   "source": [
    "Or Operatörü\n",
    "Her iki durum da eğer yanlışsa False değerini döndürür. Diğer durumlarda hep True değerini döndürür.\n"
   ]
  },
  {
   "cell_type": "code",
   "execution_count": 17,
   "metadata": {},
   "outputs": [
    {
     "name": "stdout",
     "output_type": "stream",
     "text": [
      "True\n"
     ]
    }
   ],
   "source": [
    "x =int(input(\"bir sayı giriniz : \"))\n",
    "print( x > 0 or x %2 == 0 )"
   ]
  },
  {
   "attachments": {},
   "cell_type": "markdown",
   "metadata": {},
   "source": [
    "Not Operatörü\n",
    "True değerini False\n",
    "False için True döndürür"
   ]
  },
  {
   "cell_type": "code",
   "execution_count": 18,
   "metadata": {},
   "outputs": [
    {
     "name": "stdout",
     "output_type": "stream",
     "text": [
      "False\n"
     ]
    }
   ],
   "source": [
    "print(not(True))"
   ]
  },
  {
   "attachments": {},
   "cell_type": "markdown",
   "metadata": {},
   "source": [
    "Karar Yapıları\n",
    "\n",
    "Eğer if bloğu doğruysa diğer durumlara bakılmaz ve if bloğu altındaki kodlar çalışır.\n",
    "else yapısının kullanılması zorunlu değildir.\n",
    "elif yapısının kullanılması zorunlu değildir.\n",
    "else yapısı if ve varsa elif yapısının false olduğu durumlarda çalışır.\n",
    "elif yapısına birden çok farklı koşullardan doğacak durumların kontrolünü sağlamak için kullanırız."
   ]
  },
  {
   "cell_type": "code",
   "execution_count": 20,
   "metadata": {},
   "outputs": [
    {
     "name": "stdout",
     "output_type": "stream",
     "text": [
      "program sonlandı\n"
     ]
    }
   ],
   "source": [
    "if 0>1:\n",
    "   print(\"if blogu calıstı\")\n",
    "print(\"program sonlandı\")"
   ]
  },
  {
   "cell_type": "code",
   "execution_count": 22,
   "metadata": {},
   "outputs": [
    {
     "name": "stdout",
     "output_type": "stream",
     "text": [
      "sayılar esit\n"
     ]
    }
   ],
   "source": [
    "sayi1=int(input(\"1.sayiyi giriniz: \" ))\n",
    "sayi2=int(input(\"2.sayiyi giriniz: \"))\n",
    "\n",
    "if sayi1>sayi2:\n",
    "    print(\"dogru yaptın\")\n",
    "elif sayi1==sayi2:\n",
    "    print(\"sayılar esit\")\n",
    "else:\n",
    "    print(\"2.sayi birinci sayıdan buyuk\")"
   ]
  },
  {
   "cell_type": "code",
   "execution_count": null,
   "metadata": {},
   "outputs": [],
   "source": [
    "sayi1 = int(input(\"Birinci sayıyı giriniz: \"))\n",
    "sayi2 = int(input(\"İkinci sayıyı giriniz: \"))\n",
    "if sayi1 > sayi2:\n",
    "    print(\"Birinci sayı ikinci sayıdan büyüktür.\")\n",
    "elif sayi1 == sayi2 :\n",
    "    print(\"İki sayı birbirine eşittir.\")\n",
    "else:\n",
    "    print(\"İkinci sayı birinci sayıdan büyüktür.\")"
   ]
  },
  {
   "cell_type": "code",
   "execution_count": 23,
   "metadata": {},
   "outputs": [
    {
     "name": "stdout",
     "output_type": "stream",
     "text": [
      "Batman'i seçtiniz.\n"
     ]
    }
   ],
   "source": [
    "superKahraman = input(\"Bir süper kahraman seçiniz: \")\n",
    "if superKahraman == \"Batman\":\n",
    "    print(\"Batman'i seçtiniz.\")\n",
    "elif superKahraman == \"Superman\":\n",
    "    print(\"Superman'i seçtiniz.\")\n",
    "elif superKahraman == \"Ironman\":\n",
    "    print(\"Ironman'i seçtiniz.\")\n",
    "else:\n",
    "    print(\"Bizde böyle bir süper kahraman bulunmamaktadır.\")"
   ]
  },
  {
   "cell_type": "code",
   "execution_count": 24,
   "metadata": {},
   "outputs": [
    {
     "name": "stdout",
     "output_type": "stream",
     "text": [
      "57 tektir\n"
     ]
    }
   ],
   "source": [
    "sayi=int(input(\"Bir sayi giriniz: \"))\n",
    "\n",
    "if sayi %2 ==0:\n",
    "    print(f\"{sayi} çiftttir\")\n",
    "\n",
    "else:\n",
    "    print((f\"{sayi} tektir\"))"
   ]
  },
  {
   "attachments": {},
   "cell_type": "markdown",
   "metadata": {},
   "source": [
    "in Operatörü\n",
    "Belirtilen bir değerin, dizi, metin, liste veya demet gibi bir dizinin öğesi olup olmadığını kontrol eder. True ya da false değeri döndürür."
   ]
  },
  {
   "cell_type": "code",
   "execution_count": 25,
   "metadata": {},
   "outputs": [
    {
     "data": {
      "text/plain": [
       "False"
      ]
     },
     "execution_count": 25,
     "metadata": {},
     "output_type": "execute_result"
    }
   ],
   "source": [
    "string = \"YetGen\"\n",
    "\"p\" in string"
   ]
  },
  {
   "cell_type": "code",
   "execution_count": 26,
   "metadata": {},
   "outputs": [
    {
     "ename": "NameError",
     "evalue": "name 'y' is not defined",
     "output_type": "error",
     "traceback": [
      "\u001b[1;31m---------------------------------------------------------------------------\u001b[0m",
      "\u001b[1;31mNameError\u001b[0m                                 Traceback (most recent call last)",
      "Cell \u001b[1;32mIn[26], line 1\u001b[0m\n\u001b[1;32m----> 1\u001b[0m y \u001b[39min\u001b[39;00m string\n",
      "\u001b[1;31mNameError\u001b[0m: name 'y' is not defined"
     ]
    }
   ],
   "source": []
  },
  {
   "attachments": {},
   "cell_type": "markdown",
   "metadata": {},
   "source": [
    "For Döngüsü\n",
    "for döngüsü listelerin, demetlerin, stringlerin ve hatta sözlüklerin üzerinde dolaşmamızı sağlayan bir döngü türüdür.\n",
    "#for eleman in veriYapisi:\n",
    "  #Yapılacak işlemler"
   ]
  },
  {
   "cell_type": "code",
   "execution_count": 27,
   "metadata": {},
   "outputs": [
    {
     "name": "stdout",
     "output_type": "stream",
     "text": [
      "1\n",
      "2\n",
      "3\n",
      "4\n",
      "5\n"
     ]
    }
   ],
   "source": [
    "liste = [1, 2, 3, 4, 5]\n",
    "for i in liste:\n",
    "    print(i)"
   ]
  },
  {
   "cell_type": "code",
   "execution_count": 28,
   "metadata": {},
   "outputs": [
    {
     "name": "stdout",
     "output_type": "stream",
     "text": [
      "1\n",
      "4\n",
      "9\n",
      "16\n",
      "25\n"
     ]
    }
   ],
   "source": [
    "for i in liste:\n",
    "    print(i**2)"
   ]
  },
  {
   "cell_type": "code",
   "execution_count": 29,
   "metadata": {},
   "outputs": [
    {
     "name": "stdout",
     "output_type": "stream",
     "text": [
      " \n",
      "Y\n",
      "e\n",
      "t\n",
      "g\n",
      "e\n",
      "n\n",
      " \n"
     ]
    }
   ],
   "source": [
    "string = \" Yetgen \"\n",
    "for string1 in string:\n",
    "    print(string1)"
   ]
  },
  {
   "attachments": {},
   "cell_type": "markdown",
   "metadata": {},
   "source": [
    "While Döngüsü\n",
    "while döngüleri belli bir koşul sağlandığı sürece bloğundaki işlemleri gerçekleştirmeye devam eder. while döngülerinin sona ermesi için koşul durumunun bir süre sonra False olması gereklidir.\n",
    "#while koşul:\n",
    "   #Yapılacak işlemler"
   ]
  },
  {
   "cell_type": "code",
   "execution_count": 30,
   "metadata": {},
   "outputs": [
    {
     "name": "stdout",
     "output_type": "stream",
     "text": [
      "Toplam:  55\n"
     ]
    }
   ],
   "source": [
    "sum = 0\n",
    "i = 1\n",
    "while i < 11:\n",
    "    sum += i #sum = sum + i\n",
    "    i += 1\n",
    "print(\"Toplam: \", sum)"
   ]
  },
  {
   "attachments": {},
   "cell_type": "markdown",
   "metadata": {},
   "source": [
    "range() Fonksiyonu\n",
    "range(başlangıç, bitiş, artış miktarı) şeklinde kullanılır."
   ]
  },
  {
   "cell_type": "code",
   "execution_count": 31,
   "metadata": {},
   "outputs": [
    {
     "name": "stdout",
     "output_type": "stream",
     "text": [
      "1\n",
      "3\n",
      "5\n",
      "7\n",
      "9\n"
     ]
    }
   ],
   "source": [
    "for x in range(1,10,2):\n",
    "    print(x)"
   ]
  },
  {
   "attachments": {},
   "cell_type": "markdown",
   "metadata": {},
   "source": [
    "break\n",
    "break ifadesi döngüyü sonlandırır.\n",
    "continue\n",
    "continue ifadesi döngünün sonraki adımına geçer."
   ]
  },
  {
   "cell_type": "code",
   "execution_count": 34,
   "metadata": {},
   "outputs": [
    {
     "name": "stdout",
     "output_type": "stream",
     "text": [
      "0\n",
      "1\n",
      "2\n",
      "3\n",
      "4\n"
     ]
    }
   ],
   "source": [
    "i = 0\n",
    "while i < 10:\n",
    "    if i == 5:\n",
    "        break\n",
    "    else:\n",
    "        print(i)\n",
    "    i += 1"
   ]
  },
  {
   "cell_type": "code",
   "execution_count": null,
   "metadata": {},
   "outputs": [],
   "source": []
  },
  {
   "cell_type": "code",
   "execution_count": 36,
   "metadata": {},
   "outputs": [
    {
     "name": "stdout",
     "output_type": "stream",
     "text": [
      "0\n",
      "1\n",
      "2\n",
      "3\n",
      "4\n",
      "6\n"
     ]
    }
   ],
   "source": [
    "for i in range(7):\n",
    "    if i == 5:\n",
    "        continue\n",
    "    print(i)"
   ]
  }
 ],
 "metadata": {
  "kernelspec": {
   "display_name": "Python 3",
   "language": "python",
   "name": "python3"
  },
  "language_info": {
   "codemirror_mode": {
    "name": "ipython",
    "version": 3
   },
   "file_extension": ".py",
   "mimetype": "text/x-python",
   "name": "python",
   "nbconvert_exporter": "python",
   "pygments_lexer": "ipython3",
   "version": "3.11.1"
  },
  "orig_nbformat": 4
 },
 "nbformat": 4,
 "nbformat_minor": 2
}
