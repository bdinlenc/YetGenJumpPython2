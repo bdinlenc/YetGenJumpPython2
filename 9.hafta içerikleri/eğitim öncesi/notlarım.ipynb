{
 "cells": [
  {
   "cell_type": "code",
   "execution_count": 16,
   "metadata": {},
   "outputs": [],
   "source": [
    "\n",
    "class Yazilimci():\n",
    "\n",
    "    def __init__ (self, isim, soyisim, numara, maas, diller):\n",
    "\n",
    "     self.isim= isim\n",
    "     self.soyisim= soyisim\n",
    "     self.numara= numara\n",
    "     self.maas= maas\n",
    "     self.diller= diller\n",
    "\n",
    "    def bilgileri_goster(self): \n",
    "\n",
    "         print(f\"\"\"\n",
    "         Çalışan bilgisi :\n",
    "             İsim:self.isim\n",
    "              Soyisim:self.soyisim\n",
    "              Numara:self.numara\n",
    "              Maaş:self.maas\n",
    "              Bildiğidiller:self.diller\n",
    "                \"\"\")\n",
    "    def dilEkle(self,yeni_dil):\n",
    "         print(\"Dil eklendi\")\n",
    "         self.diller.append(yeni_dil)\n",
    "\n",
    "    def maasyukselt(self,zam):\n",
    "         print(\"zam yapılıyor\")\n",
    "         self.maas+=250\n",
    "\n",
    "\n"
   ]
  },
  {
   "cell_type": "code",
   "execution_count": 20,
   "metadata": {},
   "outputs": [
    {
     "ename": "TypeError",
     "evalue": "'Yazilimci' object is not callable",
     "output_type": "error",
     "traceback": [
      "\u001b[1;31m---------------------------------------------------------------------------\u001b[0m",
      "\u001b[1;31mTypeError\u001b[0m                                 Traceback (most recent call last)",
      "Cell \u001b[1;32mIn[20], line 1\u001b[0m\n\u001b[1;32m----> 1\u001b[0m Yazilimci\u001b[39m=\u001b[39mYazilimci(\u001b[39m\"\u001b[39;49m\u001b[39mece\u001b[39;49m\u001b[39m\"\u001b[39;49m,\u001b[39m\"\u001b[39;49m\u001b[39mece\u001b[39;49m\u001b[39m\"\u001b[39;49m,\u001b[39m\"\u001b[39;49m\u001b[39m12345\u001b[39;49m\u001b[39m\"\u001b[39;49m,\u001b[39m\"\u001b[39;49m\u001b[39m10000\u001b[39;49m\u001b[39m\"\u001b[39;49m,(\u001b[39m\"\u001b[39;49m\u001b[39mpython\u001b[39;49m\u001b[39m\"\u001b[39;49m,\u001b[39m\"\u001b[39;49m\u001b[39mflutter\u001b[39;49m\u001b[39m\"\u001b[39;49m ,\u001b[39m\"\u001b[39;49m\u001b[39m25\u001b[39;49m\u001b[39m\"\u001b[39;49m))\n\u001b[0;32m      3\u001b[0m Yazilimci\u001b[39m.\u001b[39mbilgileri_goster()\n\u001b[0;32m      5\u001b[0m Yazilimci\u001b[39m.\u001b[39mmaasyukselt\n",
      "\u001b[1;31mTypeError\u001b[0m: 'Yazilimci' object is not callable"
     ]
    }
   ],
   "source": [
    "Yazilimci=Yazilimci(\"ece\",\"ece\",\"12345\",\"10000\",(\"python\",\"flutter\" ,\"25\"))\n",
    "\n",
    "Yazilimci.bilgileri_goster()\n",
    "\n",
    "Yazilimci.maasyukselt\n",
    "\n",
    "\n",
    "\n",
    "\n"
   ]
  },
  {
   "cell_type": "code",
   "execution_count": 13,
   "metadata": {},
   "outputs": [
    {
     "name": "stdout",
     "output_type": "stream",
     "text": [
      "\n",
      "         Çalışan bilgisi :\n",
      "             İsim:self.isim\n",
      "              Soyisim:self.soyisim\n",
      "              Numara:self.numara\n",
      "              Maaş:self.maas\n",
      "              Bildiğidiller:self.diller\n",
      "                \n"
     ]
    }
   ],
   "source": []
  }
 ],
 "metadata": {
  "kernelspec": {
   "display_name": "Python 3",
   "language": "python",
   "name": "python3"
  },
  "language_info": {
   "codemirror_mode": {
    "name": "ipython",
    "version": 3
   },
   "file_extension": ".py",
   "mimetype": "text/x-python",
   "name": "python",
   "nbconvert_exporter": "python",
   "pygments_lexer": "ipython3",
   "version": "3.11.1"
  },
  "orig_nbformat": 4
 },
 "nbformat": 4,
 "nbformat_minor": 2
}
