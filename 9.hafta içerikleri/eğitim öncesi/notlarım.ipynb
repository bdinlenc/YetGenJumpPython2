{
 "cells": [
  {
   "cell_type": "code",
   "execution_count": 16,
   "metadata": {},
   "outputs": [],
   "source": [
    "\n",
    "class Yazilimci():\n",
    "\n",
    "    def __init__ (self, isim, soyisim, numara, maas, diller):\n",
    "\n",
    "     self.isim= isim\n",
    "     self.soyisim= soyisim\n",
    "     self.numara= numara\n",
    "     self.maas= maas\n",
    "     self.diller= diller\n",
    "\n",
    "    def bilgileri_goster(self): \n",
    "\n",
    "         print(f\"\"\"\n",
    "         Çalışan bilgisi :\n",
    "             İsim:self.isim\n",
    "              Soyisim:self.soyisim\n",
    "              Numara:self.numara\n",
    "              Maaş:self.maas\n",
    "              Bildiğidiller:self.diller\n",
    "                \"\"\")\n",
    "    def dilEkle(self,yeni_dil):\n",
    "         print(\"Dil eklendi\")\n",
    "         self.diller.append(yeni_dil)\n",
    "\n",
    "    def maasyukselt(self,zam):\n",
    "         print(\"zam yapılıyor\")\n",
    "         self.maas+=250\n",
    "\n",
    "\n"
   ]
  },
  {
   "cell_type": "code",
   "execution_count": 20,
   "metadata": {},
   "outputs": [
    {
     "ename": "TypeError",
     "evalue": "'Yazilimci' object is not callable",
     "output_type": "error",
     "traceback": [
      "\u001b[1;31m---------------------------------------------------------------------------\u001b[0m",
      "\u001b[1;31mTypeError\u001b[0m                                 Traceback (most recent call last)",
      "Cell \u001b[1;32mIn[20], line 1\u001b[0m\n\u001b[1;32m----> 1\u001b[0m Yazilimci\u001b[39m=\u001b[39mYazilimci(\u001b[39m\"\u001b[39;49m\u001b[39mece\u001b[39;49m\u001b[39m\"\u001b[39;49m,\u001b[39m\"\u001b[39;49m\u001b[39mece\u001b[39;49m\u001b[39m\"\u001b[39;49m,\u001b[39m\"\u001b[39;49m\u001b[39m12345\u001b[39;49m\u001b[39m\"\u001b[39;49m,\u001b[39m\"\u001b[39;49m\u001b[39m10000\u001b[39;49m\u001b[39m\"\u001b[39;49m,(\u001b[39m\"\u001b[39;49m\u001b[39mpython\u001b[39;49m\u001b[39m\"\u001b[39;49m,\u001b[39m\"\u001b[39;49m\u001b[39mflutter\u001b[39;49m\u001b[39m\"\u001b[39;49m ,\u001b[39m\"\u001b[39;49m\u001b[39m25\u001b[39;49m\u001b[39m\"\u001b[39;49m))\n\u001b[0;32m      3\u001b[0m Yazilimci\u001b[39m.\u001b[39mbilgileri_goster()\n\u001b[0;32m      5\u001b[0m Yazilimci\u001b[39m.\u001b[39mmaasyukselt\n",
      "\u001b[1;31mTypeError\u001b[0m: 'Yazilimci' object is not callable"
     ]
    }
   ],
   "source": [
    "Yazilimci=Yazilimci(\"ece\",\"ece\",\"12345\",\"10000\",(\"python\",\"flutter\" ,\"25\"))\n",
    "\n",
    "Yazilimci.bilgileri_goster()\n",
    "\n",
    "Yazilimci.maasyukselt\n",
    "\n",
    "\n",
    "\n",
    "\n"
   ]
  },
  {
   "attachments": {},
   "cell_type": "markdown",
   "metadata": {},
   "source": [
    "^##Inheritance\n",
    "Bir sınıfın özelliklerinin ve mtotlarının başka bir sınıfa aktarılarak işlevinin artırılmasını sağlar.\n",
    "super() miras aldığımız sınıfın metotlarını alt sınıflardan kullanmamızı sağlar.\n",
    "super().init() metodu çalışırken sınıf özelliklerini ve methotları kullanır\n",
    "Base Class ana sınıftır.\n",
    "Sub Class base class'ın  ve methotları kullanır"
   ]
  },
  {
   "cell_type": "code",
   "execution_count": 21,
   "metadata": {},
   "outputs": [
    {
     "name": "stdout",
     "output_type": "stream",
     "text": [
      "Person nesnesi türetildi.\n",
      "berna dinlenc 23\n"
     ]
    }
   ],
   "source": [
    "class Person:\n",
    "    def __init__(self, name, surname, age):\n",
    "        self.name = name\n",
    "        self.surname = surname\n",
    "        self.age = age\n",
    "        print(\"Person nesnesi türetildi.\")\n",
    "    def intro(self):\n",
    "        print(self.name, self.surname, self.age)\n",
    "    \n",
    "class Student(Person):\n",
    "    def __init__(self, name, surname, age, number):\n",
    "        super().__init__(name, surname, age)\n",
    "        self.number = number\n",
    "        print(\"Student nesnesi çalıştı.\")\n",
    "    def intro(self):\n",
    "        print(self.name, self.surname, self.age, self.number)\n",
    "    def study(self):\n",
    "        print(f\"{self.number}  numaralı öğrenci ders çalışıyor.\")\n",
    "\n",
    "class Teacher(Person):\n",
    "    def __init__(self, name, surname, age, branch):\n",
    "        super().__init__(name, surname, age)\n",
    "        self.branch = branch\n",
    "        print(\"Teacher nesnesi çalıştı.\")\n",
    "    def teach(self):\n",
    "        print(f\"{self.name} isimli öğretmen {self.branch} dersine girmektedir.\")\n",
    "\n",
    "p1 = Person(\"berna\", \"dinlenc\", 23)\n",
    "p1.intro()"
   ]
  },
  {
   "cell_type": "code",
   "execution_count": 22,
   "metadata": {},
   "outputs": [
    {
     "name": "stdout",
     "output_type": "stream",
     "text": [
      "Person nesnesi türetildi.\n",
      "Student nesnesi çalıştı.\n",
      "Yetgen Core 20 1001\n",
      "1001  numaralı öğrenci ders çalışıyor.\n"
     ]
    }
   ],
   "source": [
    "s1 = Student(\"Yetgen\", \"Core\", 20,1001)\n",
    "s1.intro()\n",
    "s1.study()"
   ]
  },
  {
   "cell_type": "code",
   "execution_count": 23,
   "metadata": {},
   "outputs": [
    {
     "name": "stdout",
     "output_type": "stream",
     "text": [
      "Person nesnesi türetildi.\n",
      "Teacher nesnesi çalıştı.\n",
      "Gizem Demet 35\n",
      "Gizem isimli öğretmen Farmkognozi dersine girmektedir.\n"
     ]
    }
   ],
   "source": [
    "t1 = Teacher(\"Gizem\", \"Demet\", 35, \"Farmkognozi\")\n",
    "t1.intro()\n",
    "t1.teach()"
   ]
  },
  {
   "cell_type": "markdown",
   "metadata": {},
   "source": []
  }
 ],
 "metadata": {
  "kernelspec": {
   "display_name": "Python 3",
   "language": "python",
   "name": "python3"
  },
  "language_info": {
   "codemirror_mode": {
    "name": "ipython",
    "version": 3
   },
   "file_extension": ".py",
   "mimetype": "text/x-python",
   "name": "python",
   "nbconvert_exporter": "python",
   "pygments_lexer": "ipython3",
   "version": "3.11.1"
  },
  "orig_nbformat": 4
 },
 "nbformat": 4,
 "nbformat_minor": 2
}
