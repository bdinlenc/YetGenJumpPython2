{
 "cells": [
  {
   "cell_type": "code",
   "execution_count": 1,
   "metadata": {},
   "outputs": [
    {
     "data": {
      "text/plain": [
       "False"
      ]
     },
     "execution_count": 1,
     "metadata": {},
     "output_type": "execute_result"
    }
   ],
   "source": [
    "age=67\n",
    "age_to_drive=65\n",
    "age==age_to_drive"
   ]
  },
  {
   "cell_type": "code",
   "execution_count": 16,
   "metadata": {},
   "outputs": [
    {
     "name": "stdout",
     "output_type": "stream",
     "text": [
      "hi\n",
      "nice to meet you bern\n",
      "final statement\n"
     ]
    }
   ],
   "source": [
    "print(\"hi\")\n",
    "\n",
    "name=input(\"what is your name\")\n",
    "\n",
    "print(\"nice to meet you\" , name)\n",
    "\n",
    "answer=input(\"are you enjoying the course\")\n",
    "\n",
    "if answer==\"yes\":\n",
    "\n",
    "    print (\"its good to hear\")\n",
    "\n",
    "if answer ==\"no\":\n",
    "    print(\"you should work more harder\")\n",
    "\n",
    "print(\"final statement\")"
   ]
  },
  {
   "cell_type": "code",
   "execution_count": 1,
   "metadata": {},
   "outputs": [
    {
     "name": "stdout",
     "output_type": "stream",
     "text": [
      "270\n"
     ]
    }
   ],
   "source": [
    "print(500-230)"
   ]
  },
  {
   "cell_type": "code",
   "execution_count": 2,
   "metadata": {},
   "outputs": [
    {
     "name": "stdout",
     "output_type": "stream",
     "text": [
      "plant\n",
      "cactii dont need a lot of water\n"
     ]
    }
   ],
   "source": [
    "plant=\"cactii\"\n",
    "\n",
    "input(print(\"plant\"))\n",
    "\n",
    "if plant ==\"cactii\":\n",
    "\n",
    "   print(plant,\"dont need a lot of water\")\n",
    "\n",
    "else:\n",
    "   print(plant,\"love water\")"
   ]
  },
  {
   "cell_type": "code",
   "execution_count": 25,
   "metadata": {},
   "outputs": [
    {
     "name": "stdout",
     "output_type": "stream",
     "text": [
      "Hi\n",
      "Nice to meet you, berna\n",
      "Yuck!Thats not it\n"
     ]
    }
   ],
   "source": [
    "print(\"Hi\")\n",
    "name=input(\"What is your name?\")\n",
    "\n",
    "print(\"Nice to meet you,\",name)\n",
    "\n",
    "answer=input(\"What is your favorite food\")\n",
    "\n",
    "if answer==\"swedish meatball\":\n",
    "    print(\"Yep!So amazing\")\n",
    "\n",
    "else:\n",
    "    print(\"Yuck!Thats not it\")"
   ]
  },
  {
   "cell_type": "code",
   "execution_count": null,
   "metadata": {},
   "outputs": [],
   "source": [
    "def say_hello():  \n",
    "    print(\"Hello  friends!\")\n",
    "\n",
    "say_hello()"
   ]
  },
  {
   "cell_type": "code",
   "execution_count": 1,
   "metadata": {},
   "outputs": [
    {
     "name": "stdout",
     "output_type": "stream",
     "text": [
      "wash with white foam\n",
      "rinse once\n",
      "air dry\n"
     ]
    }
   ],
   "source": [
    "def wash_car(amountpaid):\n",
    " if(amountpaid== 12) :  \n",
    "    print(\"wash with tricolor foam\")\n",
    "    print(\"rinse twice\")\n",
    "    print(\"dry with latge blow dryer\")\n",
    "\n",
    " if(amountpaid== 6) : \n",
    "    print(\"wash with white foam\")\n",
    "    print(\"rinse once\")\n",
    "    print(\"air dry\")\n",
    "\n",
    "wash_car(6)"
   ]
  }
 ],
 "metadata": {
  "kernelspec": {
   "display_name": "Python 3",
   "language": "python",
   "name": "python3"
  },
  "language_info": {
   "codemirror_mode": {
    "name": "ipython",
    "version": 3
   },
   "file_extension": ".py",
   "mimetype": "text/x-python",
   "name": "python",
   "nbconvert_exporter": "python",
   "pygments_lexer": "ipython3",
   "version": "3.11.1"
  },
  "orig_nbformat": 4,
  "vscode": {
   "interpreter": {
    "hash": "c827ae3c18c8af18d21baf8f54d1c00210fcdc19578a14283e93bcc0e536003f"
   }
  }
 },
 "nbformat": 4,
 "nbformat_minor": 2
}
