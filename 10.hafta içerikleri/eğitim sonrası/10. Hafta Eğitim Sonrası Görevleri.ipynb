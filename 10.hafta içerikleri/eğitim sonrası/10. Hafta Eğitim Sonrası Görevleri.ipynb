{
 "cells": [
  {
   "attachments": {},
   "cell_type": "markdown",
   "metadata": {},
   "source": [
    "# Problem 1 "
   ]
  },
  {
   "cell_type": "code",
   "execution_count": 2,
   "metadata": {},
   "outputs": [
    {
     "name": "stdout",
     "output_type": "stream",
     "text": [
      "[ 4  7 15 55 99]\n"
     ]
    }
   ],
   "source": [
    "import numpy as np\n",
    "\n",
    "dizi= np.array([55,7,4,99,15])\n",
    "\n",
    "\n",
    "diziSıra = np.sort(dizi)\n",
    "\n",
    "print(diziSıra)\n",
    "\n"
   ]
  },
  {
   "attachments": {},
   "cell_type": "markdown",
   "metadata": {},
   "source": [
    "# Problem 2"
   ]
  },
  {
   "cell_type": "code",
   "execution_count": 3,
   "metadata": {},
   "outputs": [
    {
     "name": "stdout",
     "output_type": "stream",
     "text": [
      "Satır toplamları: [156 120 185]\n",
      "Sütun toplamları: [ 99  90  84 115  73]\n",
      "En büyük değer: 50\n",
      "En küçük değer: 14\n",
      "Ortalama değer: 30.733333333333334\n",
      "En büyük değerin indeksi: 13\n",
      "İlk 3 eleman: [10 11 12]\n",
      "Tersten yazdırılmış dizi: [20 19 18 17 16 15 14 13 12 11 10]\n",
      "İlk satır: [35 17 34 40 30]\n",
      "2. satır, 3. sütundaki eleman: 24\n",
      "Tüm satırlardaki ilk elemanlar: [35 27 37]\n",
      "Kareleri alınmış matris:\n",
      "[[1225  289 1156 1600  900]\n",
      " [ 729  900  576  625  196]\n",
      " [1369 1849  676 2500  841]]\n",
      "Pozitif çift sayılar: [34 40 30 30 24 14 26 50]\n"
     ]
    }
   ],
   "source": [
    "# 1- (10,15,30,45,60) değerlerine sahip numpy dizisi oluşturunuz.\n",
    "\n",
    "import numpy as np\n",
    "\n",
    "dizi = np.array([10, 15, 30, 45, 60])\n",
    "\n",
    "\n",
    "# 2- (5-15) arasındaki sayılarla numpy dizisi oluşturunuz.\n",
    "\n",
    "dizi2 = np.arange(5, 16)\n",
    "\n",
    " \n",
    "# 3- (50-100) arasında 5'er 5'er artarak numpy dizisi oluşturunuz.\n",
    "\n",
    "dizi3 = np.arange(50, 101, 5)\n",
    "\n",
    "\n",
    "# 4- 10 elemanlı sıfırlardan oluşan bir dizi oluşturunuz.\n",
    "\n",
    "dizi4 = np.zeros(10)\n",
    "\n",
    "# 5- 10 elemanlı birlerden oluşan bir dizi oluşturunuz.\n",
    "\n",
    "dizi5 = np.ones(10)\n",
    "\n",
    "\n",
    "# 6- (0-100) arasında eşit aralıklı 5 sayı üretin.\n",
    "\n",
    "dizi6 = np.linspace(0, 100, 5)\n",
    "\n",
    "\n",
    "# 7- (10-30) arasında rastgele 5 tane tamsayı üretin.\n",
    "\n",
    "dizi7 = np.random.randint(10, 31, 5)\n",
    "\n",
    "\n",
    "\n",
    "# 8- [-1 ile 1] arasında 10 adet sayı üretin.\n",
    "\n",
    "dizi8 = np.random.uniform(-1, 1, 10)\n",
    "\n",
    "\n",
    "# 9- (3x5) boyutlarında (10-50) arasında rastgele bir matris oluşturunuz.\n",
    "\n",
    "dizi9 = np.random.randint(10, 51, (3, 5))\n",
    "\n",
    "# 10- Üretilen matrisin satır ve sütun sayıları toplamlarını hesaplayınız ?\n",
    "\n",
    "print(\"Satır toplamları:\", np.sum(dizi9, axis=1))\n",
    "print(\"Sütun toplamları:\", np.sum(dizi9, axis=0))\n",
    "\n",
    "\n",
    "# 11- Üretilen matrisin en büyük, en küçük ve ortalaması nedir ?\n",
    "\n",
    "print(\"En büyük değer:\", np.max(dizi9))\n",
    "print(\"En küçük değer:\", np.min(dizi9))\n",
    "print(\"Ortalama değer:\", np.mean(dizi9))\n",
    "\n",
    "\n",
    "# 12- Üretilen matrisin en büyük değerinin indeksi kaçtır ?\n",
    "\n",
    "max_index = np.argmax(dizi9)\n",
    "print(\"En büyük değerin indeksi:\", max_index)\n",
    "\n",
    "\n",
    "\n",
    "# 13- (10-20) arasındaki sayıları içeren dizinin ilk 3 elemanını seçiniz.\n",
    "\n",
    "dizi13 = np.arange(10, 21)\n",
    "print(\"İlk 3 eleman:\", dizi13[:3])\n",
    "\n",
    "\n",
    "\n",
    "# 14- Üretilen dizinin elemanlarını tersten yazdırın.\n",
    "\n",
    "print(\"Tersten yazdırılmış dizi:\", dizi13[::-1])\n",
    "\n",
    "\n",
    "\n",
    "# 15- Üretilen matrisin ilk satırını seçiniz.\n",
    "\n",
    "print(\"İlk satır:\", dizi9[0])\n",
    "\n",
    "# 16- Üretilen matrisin 2.satır 3.sütundaki elemanı hangisidir ?\n",
    "print(\"2. satır, 3. sütundaki eleman:\", dizi9[1, 2])\n",
    "\n",
    "\n",
    "\n",
    "# 17- Üretilen matrisin tüm satırlardaki ilk elemanı seçiniz.\n",
    "print(\"Tüm satırlardaki ilk elemanlar:\", dizi9[:, 0])\n",
    "\n",
    "\n",
    "# 18- Üretilen matrisin her bir elemanının karesini alınız.\n",
    "print(\"Kareleri alınmış matris:\")\n",
    "print(np.square(dizi9))\n",
    "\n",
    "\n",
    "# 19- Üretilen matris elemanlarının hangisi pozitif çift sayıdır ? Aralığı (-50,+50) arasında yapınız.\n",
    "\n",
    "pozitif = dizi9[(dizi9 > 0) & (dizi9 % 2 == 0)]\n",
    "print(\"Pozitif çift sayılar:\", pozitif)\n"
   ]
  }
 ],
 "metadata": {
  "kernelspec": {
   "display_name": "Python 3",
   "language": "python",
   "name": "python3"
  },
  "language_info": {
   "codemirror_mode": {
    "name": "ipython",
    "version": 3
   },
   "file_extension": ".py",
   "mimetype": "text/x-python",
   "name": "python",
   "nbconvert_exporter": "python",
   "pygments_lexer": "ipython3",
   "version": "3.11.1"
  },
  "orig_nbformat": 4,
  "vscode": {
   "interpreter": {
    "hash": "5026d2d6e7aaaaba093def813beadff083d8733e4a511af01735cbabd156995d"
   }
  }
 },
 "nbformat": 4,
 "nbformat_minor": 2
}
